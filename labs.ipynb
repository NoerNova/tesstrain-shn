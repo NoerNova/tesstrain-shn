{
 "cells": [
  {
   "cell_type": "code",
   "execution_count": 9,
   "metadata": {},
   "outputs": [
    {
     "name": "stdout",
     "output_type": "stream",
     "text": [
      "ဢၼ်တေၸွၺ်ႈႁႂ်ႈသူဝူၼ်ႉၶႆႈလႆႈဝႃႈ\n"
     ]
    }
   ],
   "source": [
    "import unicodedata\n",
    "import io\n",
    "\n",
    "file_path = \"/home/noernova/Labs/tesstrain/data/shn-ground-truth/1729612954.13547.gt.txt\"\n",
    "with io.open(file_path, 'r', encoding='utf-8') as f:\n",
    "    try:\n",
    "        text = f.read()\n",
    "        print(text)\n",
    "    except UnicodeDecodeError as e:\n",
    "        print(e)"
   ]
  },
  {
   "cell_type": "code",
   "execution_count": 13,
   "metadata": {},
   "outputs": [
    {
     "name": "stdout",
     "output_type": "stream",
     "text": [
      "ဢၼ်တေၸွၺ်ႈႁႂ်ႈသူဝူၼ်ႉၶႆႈလႆႈဝႃႈ\n"
     ]
    }
   ],
   "source": [
    "normalized_text = unicodedata.normalize('NFKD', text)\n",
    "print(normalized_text)"
   ]
  },
  {
   "cell_type": "code",
   "execution_count": null,
   "metadata": {},
   "outputs": [],
   "source": []
  }
 ],
 "metadata": {
  "kernelspec": {
   "display_name": "tesseract",
   "language": "python",
   "name": "python3"
  },
  "language_info": {
   "codemirror_mode": {
    "name": "ipython",
    "version": 3
   },
   "file_extension": ".py",
   "mimetype": "text/x-python",
   "name": "python",
   "nbconvert_exporter": "python",
   "pygments_lexer": "ipython3",
   "version": "3.11.10"
  }
 },
 "nbformat": 4,
 "nbformat_minor": 2
}
