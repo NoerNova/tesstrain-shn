{
 "cells": [
  {
   "cell_type": "code",
   "execution_count": 1,
   "metadata": {},
   "outputs": [],
   "source": [
    "from docx import Document\n",
    "\n",
    "def extract_docx_text(docx_path):\n",
    "    doc = Document(docx_path)\n",
    "    return \"\\n\".join([para.text for para in doc.paragraphs])"
   ]
  },
  {
   "cell_type": "code",
   "execution_count": null,
   "metadata": {},
   "outputs": [],
   "source": [
    "print(extract_docx_text(\"./ocr-text/the-state.docx\"))"
   ]
  },
  {
   "cell_type": "code",
   "execution_count": 2,
   "metadata": {},
   "outputs": [],
   "source": [
    "from PIL import Image, ImageDraw, ImageFont\n",
    "\n",
    "def text_to_image(text, font_path, image_size=(400, 300), font_size=40):\n",
    "    img = Image.new('RGB', image_size, color=(255, 255, 255))\n",
    "    draw = ImageDraw.Draw(img)\n",
    "    font = ImageFont.truetype(font_path, font_size)\n",
    "    draw.text((50, 50), text, font=font, fill=(0, 0, 0))\n",
    "    return img\n",
    "\n",
    "text = \"မႂ်ႇသုင်ၶႃႈ။\"\n",
    "img = text_to_image(text, \"./ocr-text/Shan.ttf\")\n",
    "img.save(\"./ocr-text/sample_image.png\")\n"
   ]
  },
  {
   "cell_type": "markdown",
   "metadata": {},
   "source": [
    "## Extract text to image from DOCX"
   ]
  },
  {
   "cell_type": "code",
   "execution_count": 1,
   "metadata": {},
   "outputs": [],
   "source": [
    "from docx import Document\n",
    "from PIL import Image, ImageDraw, ImageFont\n",
    "import time\n",
    "import os\n",
    "\n",
    "def extract_docx_text(docx_path):\n",
    "    doc = Document(docx_path)\n",
    "    all_text = []\n",
    "    buffer_text = \"\"\n",
    "\n",
    "    for para in doc.paragraphs:\n",
    "        words = para.text.split(\" \")\n",
    "        \n",
    "        for word in words:\n",
    "            if len(buffer_text) + len(word) + 1 > 30:\n",
    "                all_text.append(buffer_text.strip())\n",
    "                buffer_text = word\n",
    "            else:\n",
    "                buffer_text += \" \" + word\n",
    "    \n",
    "    if buffer_text:\n",
    "        all_text.append(buffer_text.strip())\n",
    "        \n",
    "    return all_text\n",
    "\n",
    "def text_to_image(text, font_path, image_size=(800, 200), font_size=24):\n",
    "    img = Image.new('RGB', image_size, color=(255, 255, 255))\n",
    "    draw = ImageDraw.Draw(img)\n",
    "    font = ImageFont.truetype(font_path, font_size)\n",
    "    \n",
    "    draw.text((50, 50), text, font=font, fill=(0, 0, 0))\n",
    "    return img\n",
    "\n",
    "def generate_images_from_docx(docx_path, font_path, output_dir):\n",
    "    words = extract_docx_text(docx_path)\n",
    "    \n",
    "    for i, word in enumerate(words):\n",
    "\n",
    "        word = word.strip()\n",
    "        \n",
    "        if len(word) < 1:\n",
    "            continue\n",
    "\n",
    "        img = text_to_image(word, font_path)\n",
    "        ts = time.time()\n",
    "\n",
    "        # save TIF\n",
    "        img.save(f\"{output_dir}/{ts}.tif\")\n",
    "        \n",
    "        # save TXT\n",
    "        with open(f\"{output_dir}/{ts}.gt.txt\", \"w\", encoding='utf-8') as text_file:\n",
    "            text_file.write(word)\n",
    "\n",
    "        print(f\"Saved image for word: {word}\")\n"
   ]
  },
  {
   "cell_type": "code",
   "execution_count": null,
   "metadata": {},
   "outputs": [],
   "source": [
    "from pathlib import Path\n",
    "\n",
    "datasets = Path(\"./kawtai-dataset\")\n",
    "\n",
    "for file_path in datasets.rglob(\"*.docx\"):\n",
    "    if file_path.is_file():\n",
    "        docx_path = file_path\n",
    "        font_path = \"./PangLong.ttf\"\n",
    "        output_dir = \"./output\"\n",
    "        generate_images_from_docx(docx_path, font_path, output_dir)"
   ]
  },
  {
   "cell_type": "code",
   "execution_count": null,
   "metadata": {},
   "outputs": [],
   "source": [
    "import time\n",
    "from OCRDataGenerator import OCRDataGenerator\n",
    "\n",
    "output_dir = \"./output\"\n",
    "fonts = [\n",
    "    \"./Shan.ttf\",\n",
    "    \"./PangLong.ttf\"\n",
    "]\n",
    "\n",
    "generator = OCRDataGenerator(font_paths=fonts)\n",
    "\n",
    "texts = [\n",
    "    \"ၸွမ်းတီႈၼႂ်းပိူင်ၵၢၼ်ပၢႆးမၢၵ်ႈမုၼ်းယူႇႁိုဝ်?\",\n",
    "    \"လူဝ်ႇမီးလွင်ႈလူင်ပွင်ႊၸိုင်ႈၶဝ်ႈပႃး\",\n",
    "    \"တီႈလႂ် မႃး။ ၵမ်ႈၼမ်ၼမ်တႄႉ\"\n",
    "]\n",
    "\n",
    "for text in texts:\n",
    "    image, metadata = generator.generate_image(\n",
    "        text=text,\n",
    "        min_font_size=24,\n",
    "        max_font_size=48,\n",
    "        horizontal_padding=40,\n",
    "        vertical_padding=20,\n",
    "        min_height=64,\n",
    "        add_noise=False,\n",
    "        random_transform=False\n",
    "    )\n",
    "    print(f\"Text: {text}\")\n",
    "    print(f\"Image size: {metadata['image_size']}\\n\")\n",
    "\n",
    "    ts = time.time()\n",
    "\n",
    "    # save TIF\n",
    "    image.save(f\"{output_dir}/{ts}.tif\")\n",
    "        \n",
    "    # save TXT\n",
    "    with open(f\"{output_dir}/{ts}.gt.txt\", \"w\", encoding='utf-8') as text_file:\n",
    "        text_file.write(text)\n",
    "\n",
    "    print(f\"Saved image for word: {text}\")"
   ]
  }
 ],
 "metadata": {
  "kernelspec": {
   "display_name": "tesseract",
   "language": "python",
   "name": "python3"
  },
  "language_info": {
   "codemirror_mode": {
    "name": "ipython",
    "version": 3
   },
   "file_extension": ".py",
   "mimetype": "text/x-python",
   "name": "python",
   "nbconvert_exporter": "python",
   "pygments_lexer": "ipython3",
   "version": "3.11.10"
  }
 },
 "nbformat": 4,
 "nbformat_minor": 2
}
